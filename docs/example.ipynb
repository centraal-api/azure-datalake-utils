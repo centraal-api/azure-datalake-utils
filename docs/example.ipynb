{
 "cells": [
  {
   "cell_type": "code",
   "execution_count": null,
   "metadata": {},
   "outputs": [],
   "source": [
    "%pip install -i https://test.pypi.org/simple/ --extra-index-url=https://pypi.org/simple azure-datalake-utils==0.2.0.dev23"
   ]
  },
  {
   "cell_type": "code",
   "execution_count": 1,
   "metadata": {},
   "outputs": [],
   "source": [
    "%load_ext autoreload\n",
    "%autoreload 2"
   ]
  },
  {
   "cell_type": "code",
   "execution_count": 4,
   "metadata": {},
   "outputs": [
    {
     "name": "stdout",
     "output_type": "stream",
     "text": [
      "Found existing installation: azure-datalake-utils 0.2.0.dev23\n",
      "Uninstalling azure-datalake-utils-0.2.0.dev23:\n",
      "  Successfully uninstalled azure-datalake-utils-0.2.0.dev23\n",
      "Note: you may need to restart the kernel to use updated packages.\n"
     ]
    }
   ],
   "source": [
    "%pip uninstall azure-datalake-utils -y"
   ]
  },
  {
   "cell_type": "code",
   "execution_count": 1,
   "metadata": {},
   "outputs": [
    {
     "name": "stdout",
     "output_type": "stream",
     "text": [
      "\u001b[33mWARNING: Package(s) not found: azure-datalake-utils\u001b[0m\n",
      "Note: you may need to restart the kernel to use updated packages.\n"
     ]
    }
   ],
   "source": [
    "%pip show azure-datalake-utils"
   ]
  },
  {
   "cell_type": "code",
   "execution_count": 3,
   "metadata": {},
   "outputs": [],
   "source": [
    "import sys\n",
    "\n",
    "import pandas as pd\n",
    "\n",
    "sys.path.append('../')"
   ]
  },
  {
   "cell_type": "code",
   "execution_count": 4,
   "metadata": {},
   "outputs": [],
   "source": [
    "from azure_datalake_utils import Datalake"
   ]
  },
  {
   "cell_type": "code",
   "execution_count": 5,
   "metadata": {},
   "outputs": [],
   "source": [
    "dl = Datalake.from_account_key('datalakeanaliticabi', \n",
    "\"mbnAZLLqJYIg2RwC6jUxtsgPIr+sOJJNhhevfGzqi6Y3+kZjC6v0hIVchjlY/ajkWwO8jjY5uXWqBcrEl7F8lA==\")"
   ]
  },
  {
   "cell_type": "code",
   "execution_count": 6,
   "metadata": {},
   "outputs": [],
   "source": [
    "df = pd.DataFrame({\"foo_str\": ['bar\\n', 'foo,', 'bar|'], \"bar_str\": [\"bar\", \"foo|\", \"bar\\r\"], \"foo\": [1, 2, 3]})"
   ]
  },
  {
   "cell_type": "code",
   "execution_count": 9,
   "metadata": {},
   "outputs": [],
   "source": [
    "dl.write_csv(df, 'hacebanalitica-user-cientificos/prueba/test.csv', sep='|')"
   ]
  },
  {
   "cell_type": "code",
   "execution_count": 8,
   "metadata": {},
   "outputs": [],
   "source": [
    "test = dl.read_csv('hacebanalitica-user-cientificos/prueba/*.csv', header = None)"
   ]
  },
  {
   "cell_type": "code",
   "execution_count": 9,
   "metadata": {},
   "outputs": [
    {
     "name": "stderr",
     "output_type": "stream",
     "text": [
      "/home/german/repos/azure-datalake-utils/docs/../azure_datalake_utils/azure_datalake_utils.py:80: DtypeWarning: Columns (11,15,16,17,38,57) have mixed types. Specify dtype option on import or set low_memory=False.\n",
      "  df = pd.read_csv(f\"az://{ruta}\", storage_options=self.storage_options, **kwargs)\n"
     ]
    }
   ],
   "source": [
    "test = dl.read_csv('hacebanalitica-curated-ventas/ventas/haceb/ventas/ventas_2022.csv', sep=';')"
   ]
  },
  {
   "cell_type": "code",
   "execution_count": 11,
   "metadata": {},
   "outputs": [
    {
     "data": {
      "text/html": [
       "<div>\n",
       "<style scoped>\n",
       "    .dataframe tbody tr th:only-of-type {\n",
       "        vertical-align: middle;\n",
       "    }\n",
       "\n",
       "    .dataframe tbody tr th {\n",
       "        vertical-align: top;\n",
       "    }\n",
       "\n",
       "    .dataframe thead th {\n",
       "        text-align: right;\n",
       "    }\n",
       "</style>\n",
       "<table border=\"1\" class=\"dataframe\">\n",
       "  <thead>\n",
       "    <tr style=\"text-align: right;\">\n",
       "      <th></th>\n",
       "      <th>NdeFactur</th>\n",
       "      <th>ClasedeFactura</th>\n",
       "      <th>DescripcionFactura</th>\n",
       "      <th>Clase de Pedido</th>\n",
       "      <th>Descripcion ClasePedido</th>\n",
       "      <th>CodigoMaterial</th>\n",
       "      <th>NombreMaterial</th>\n",
       "      <th>Cantidad</th>\n",
       "      <th>EstadodeContabilizacion</th>\n",
       "      <th>CodigoPagador</th>\n",
       "      <th>...</th>\n",
       "      <th>Oficina de Ventas</th>\n",
       "      <th>Descripción Oficina de Ventas</th>\n",
       "      <th>Margen</th>\n",
       "      <th>Sociedad</th>\n",
       "      <th>Org Ventas</th>\n",
       "      <th>Grupo de Comisiones</th>\n",
       "      <th>Descripción Grupo de Comisiones</th>\n",
       "      <th>Descripción Nivel Privilegio</th>\n",
       "      <th>Email_ZPOS</th>\n",
       "      <th>Habeas_Data</th>\n",
       "    </tr>\n",
       "  </thead>\n",
       "  <tbody>\n",
       "    <tr>\n",
       "      <th>0</th>\n",
       "      <td>107T1471</td>\n",
       "      <td>ZSCP</td>\n",
       "      <td>Factura de Venta</td>\n",
       "      <td>ZSCI</td>\n",
       "      <td>Ped POS Contado EI</td>\n",
       "      <td>2</td>\n",
       "      <td>SERVICIO CALIFICADO</td>\n",
       "      <td>0,5</td>\n",
       "      <td>C</td>\n",
       "      <td>800104</td>\n",
       "      <td>...</td>\n",
       "      <td>OF02</td>\n",
       "      <td>Centro</td>\n",
       "      <td>10000,0</td>\n",
       "      <td>1000</td>\n",
       "      <td>1000</td>\n",
       "      <td>60</td>\n",
       "      <td>SAC</td>\n",
       "      <td>NaN</td>\n",
       "      <td>NaN</td>\n",
       "      <td>NaN</td>\n",
       "    </tr>\n",
       "    <tr>\n",
       "      <th>1</th>\n",
       "      <td>107T1472</td>\n",
       "      <td>ZSCP</td>\n",
       "      <td>Factura de Venta</td>\n",
       "      <td>ZSCI</td>\n",
       "      <td>Ped POS Contado EI</td>\n",
       "      <td>496</td>\n",
       "      <td>INSTALACION GRATUITA</td>\n",
       "      <td>1,0</td>\n",
       "      <td>C</td>\n",
       "      <td>800104</td>\n",
       "      <td>...</td>\n",
       "      <td>OF02</td>\n",
       "      <td>Centro</td>\n",
       "      <td>10000,0</td>\n",
       "      <td>1000</td>\n",
       "      <td>1000</td>\n",
       "      <td>60</td>\n",
       "      <td>SAC</td>\n",
       "      <td>NaN</td>\n",
       "      <td></td>\n",
       "      <td>2,0</td>\n",
       "    </tr>\n",
       "    <tr>\n",
       "      <th>2</th>\n",
       "      <td>107T1472</td>\n",
       "      <td>ZSCP</td>\n",
       "      <td>Factura de Venta</td>\n",
       "      <td>ZSCI</td>\n",
       "      <td>Ped POS Contado EI</td>\n",
       "      <td>1001849</td>\n",
       "      <td>CODO CALLE 1/2' GALVANIZADO</td>\n",
       "      <td>1,0</td>\n",
       "      <td>C</td>\n",
       "      <td>800104</td>\n",
       "      <td>...</td>\n",
       "      <td>OF02</td>\n",
       "      <td>Centro</td>\n",
       "      <td>5129,0</td>\n",
       "      <td>1000</td>\n",
       "      <td>1000</td>\n",
       "      <td>50</td>\n",
       "      <td>Repuestos y Accesori</td>\n",
       "      <td>NaN</td>\n",
       "      <td></td>\n",
       "      <td>2,0</td>\n",
       "    </tr>\n",
       "    <tr>\n",
       "      <th>3</th>\n",
       "      <td>107T1472</td>\n",
       "      <td>ZSCP</td>\n",
       "      <td>Factura de Venta</td>\n",
       "      <td>ZSCI</td>\n",
       "      <td>Ped POS Contado EI</td>\n",
       "      <td>1005211</td>\n",
       "      <td>MANGUERA ESPIRAL ENCAUCHADA 36</td>\n",
       "      <td>1,0</td>\n",
       "      <td>C</td>\n",
       "      <td>800104</td>\n",
       "      <td>...</td>\n",
       "      <td>OF02</td>\n",
       "      <td>Centro</td>\n",
       "      <td>5792,0</td>\n",
       "      <td>1000</td>\n",
       "      <td>1000</td>\n",
       "      <td>50</td>\n",
       "      <td>Repuestos y Accesori</td>\n",
       "      <td>NaN</td>\n",
       "      <td></td>\n",
       "      <td>2,0</td>\n",
       "    </tr>\n",
       "    <tr>\n",
       "      <th>4</th>\n",
       "      <td>101T370</td>\n",
       "      <td>ZSCP</td>\n",
       "      <td>Factura de Venta</td>\n",
       "      <td>ZSCI</td>\n",
       "      <td>Ped POS Contado EI</td>\n",
       "      <td>1006119</td>\n",
       "      <td>BIMETALICO FSTB NEV 611 SE RD21</td>\n",
       "      <td>1,0</td>\n",
       "      <td>C</td>\n",
       "      <td>800104</td>\n",
       "      <td>...</td>\n",
       "      <td>OF02</td>\n",
       "      <td>Centro</td>\n",
       "      <td>6534,0</td>\n",
       "      <td>1000</td>\n",
       "      <td>1000</td>\n",
       "      <td>50</td>\n",
       "      <td>Repuestos y Accesori</td>\n",
       "      <td>NaN</td>\n",
       "      <td>NaN</td>\n",
       "      <td>NaN</td>\n",
       "    </tr>\n",
       "  </tbody>\n",
       "</table>\n",
       "<p>5 rows × 58 columns</p>\n",
       "</div>"
      ],
      "text/plain": [
       "  NdeFactur ClasedeFactura DescripcionFactura Clase de Pedido  \\\n",
       "0  107T1471           ZSCP   Factura de Venta            ZSCI   \n",
       "1  107T1472           ZSCP   Factura de Venta            ZSCI   \n",
       "2  107T1472           ZSCP   Factura de Venta            ZSCI   \n",
       "3  107T1472           ZSCP   Factura de Venta            ZSCI   \n",
       "4   101T370           ZSCP   Factura de Venta            ZSCI   \n",
       "\n",
       "  Descripcion ClasePedido  CodigoMaterial                   NombreMaterial  \\\n",
       "0      Ped POS Contado EI               2              SERVICIO CALIFICADO   \n",
       "1      Ped POS Contado EI             496             INSTALACION GRATUITA   \n",
       "2      Ped POS Contado EI         1001849      CODO CALLE 1/2' GALVANIZADO   \n",
       "3      Ped POS Contado EI         1005211   MANGUERA ESPIRAL ENCAUCHADA 36   \n",
       "4      Ped POS Contado EI         1006119  BIMETALICO FSTB NEV 611 SE RD21   \n",
       "\n",
       "  Cantidad EstadodeContabilizacion  CodigoPagador  ... Oficina de Ventas  \\\n",
       "0      0,5                       C         800104  ...              OF02   \n",
       "1      1,0                       C         800104  ...              OF02   \n",
       "2      1,0                       C         800104  ...              OF02   \n",
       "3      1,0                       C         800104  ...              OF02   \n",
       "4      1,0                       C         800104  ...              OF02   \n",
       "\n",
       "  Descripción Oficina de Ventas   Margen Sociedad Org Ventas  \\\n",
       "0                        Centro  10000,0     1000       1000   \n",
       "1                        Centro  10000,0     1000       1000   \n",
       "2                        Centro   5129,0     1000       1000   \n",
       "3                        Centro   5792,0     1000       1000   \n",
       "4                        Centro   6534,0     1000       1000   \n",
       "\n",
       "  Grupo de Comisiones Descripción Grupo de Comisiones  \\\n",
       "0                  60                             SAC   \n",
       "1                  60                             SAC   \n",
       "2                  50            Repuestos y Accesori   \n",
       "3                  50            Repuestos y Accesori   \n",
       "4                  50            Repuestos y Accesori   \n",
       "\n",
       "  Descripción Nivel Privilegio Email_ZPOS Habeas_Data  \n",
       "0                          NaN        NaN         NaN  \n",
       "1                          NaN                    2,0  \n",
       "2                          NaN                    2,0  \n",
       "3                          NaN                    2,0  \n",
       "4                          NaN        NaN         NaN  \n",
       "\n",
       "[5 rows x 58 columns]"
      ]
     },
     "execution_count": 11,
     "metadata": {},
     "output_type": "execute_result"
    }
   ],
   "source": [
    "test.head()"
   ]
  },
  {
   "cell_type": "code",
   "execution_count": 12,
   "metadata": {},
   "outputs": [
    {
     "name": "stderr",
     "output_type": "stream",
     "text": [
      "/home/german/repos/azure-datalake-utils/docs/../azure_datalake_utils/azure_datalake_utils.py:80: DtypeWarning: Columns (10,16,31) have mixed types. Specify dtype option on import or set low_memory=False.\n",
      "  df = pd.read_csv(f\"az://{ruta}\", storage_options=self.storage_options, **kwargs)\n"
     ]
    }
   ],
   "source": [
    "test = dl.read_csv('hacebanalitica/raw/sap/ztsd_clientepos/load_date=2022-05-04/ztsd_clientepos.csv', sep='|')"
   ]
  },
  {
   "cell_type": "code",
   "execution_count": 14,
   "metadata": {},
   "outputs": [
    {
     "data": {
      "text/html": [
       "<div>\n",
       "<style scoped>\n",
       "    .dataframe tbody tr th:only-of-type {\n",
       "        vertical-align: middle;\n",
       "    }\n",
       "\n",
       "    .dataframe tbody tr th {\n",
       "        vertical-align: top;\n",
       "    }\n",
       "\n",
       "    .dataframe thead th {\n",
       "        text-align: right;\n",
       "    }\n",
       "</style>\n",
       "<table border=\"1\" class=\"dataframe\">\n",
       "  <thead>\n",
       "    <tr style=\"text-align: right;\">\n",
       "      <th></th>\n",
       "      <th>MANDT</th>\n",
       "      <th>FITYP</th>\n",
       "      <th>STCDT</th>\n",
       "      <th>STCD1</th>\n",
       "      <th>KUNNR</th>\n",
       "      <th>ANRED</th>\n",
       "      <th>NAME1</th>\n",
       "      <th>STREET</th>\n",
       "      <th>CITY1</th>\n",
       "      <th>COUNTRY</th>\n",
       "      <th>...</th>\n",
       "      <th>ERNAM</th>\n",
       "      <th>AEDAT</th>\n",
       "      <th>AEZET</th>\n",
       "      <th>UNAM</th>\n",
       "      <th>IN_CLISAP</th>\n",
       "      <th>CSTCNDGRP1</th>\n",
       "      <th>ZSD_HABEASDATA</th>\n",
       "      <th>TRANSPZONE</th>\n",
       "      <th>LANDX</th>\n",
       "      <th>KTOKD</th>\n",
       "    </tr>\n",
       "  </thead>\n",
       "  <tbody>\n",
       "    <tr>\n",
       "      <th>0</th>\n",
       "      <td>300</td>\n",
       "      <td>PN</td>\n",
       "      <td>13</td>\n",
       "      <td>632453</td>\n",
       "      <td>632453</td>\n",
       "      <td>Señor(a)</td>\n",
       "      <td>GUSTAVO PARRA</td>\n",
       "      <td>CR 45 A 80 SUR 75</td>\n",
       "      <td>MEDELLIN</td>\n",
       "      <td>CO</td>\n",
       "      <td>...</td>\n",
       "      <td>LUISZAP</td>\n",
       "      <td>2018.03.28</td>\n",
       "      <td>07:31:51</td>\n",
       "      <td>LUISZAP</td>\n",
       "      <td>2</td>\n",
       "      <td></td>\n",
       "      <td>1</td>\n",
       "      <td>5001</td>\n",
       "      <td></td>\n",
       "      <td></td>\n",
       "    </tr>\n",
       "    <tr>\n",
       "      <th>1</th>\n",
       "      <td>300</td>\n",
       "      <td>PN</td>\n",
       "      <td>13</td>\n",
       "      <td>63311387</td>\n",
       "      <td>63311387</td>\n",
       "      <td>Señor(a)</td>\n",
       "      <td>ALMANZAR SANCHEZ</td>\n",
       "      <td>CORDOBA</td>\n",
       "      <td>MEDELLIN</td>\n",
       "      <td>CO</td>\n",
       "      <td>...</td>\n",
       "      <td>LUISZAP</td>\n",
       "      <td>2018.03.28</td>\n",
       "      <td>07:31:51</td>\n",
       "      <td>LUISZAP</td>\n",
       "      <td>2</td>\n",
       "      <td></td>\n",
       "      <td>1</td>\n",
       "      <td>5001</td>\n",
       "      <td></td>\n",
       "      <td></td>\n",
       "    </tr>\n",
       "    <tr>\n",
       "      <th>2</th>\n",
       "      <td>300</td>\n",
       "      <td>PN</td>\n",
       "      <td>13</td>\n",
       "      <td>6819796</td>\n",
       "      <td>6819796</td>\n",
       "      <td>Señor(a)</td>\n",
       "      <td>FERNANDO BOTERO</td>\n",
       "      <td>CR 81 B 7 A 49</td>\n",
       "      <td>MEDELLIN</td>\n",
       "      <td>CO</td>\n",
       "      <td>...</td>\n",
       "      <td>LUISZAP</td>\n",
       "      <td>2018.03.28</td>\n",
       "      <td>07:31:51</td>\n",
       "      <td>LUISZAP</td>\n",
       "      <td>2</td>\n",
       "      <td></td>\n",
       "      <td>1</td>\n",
       "      <td>5001</td>\n",
       "      <td></td>\n",
       "      <td></td>\n",
       "    </tr>\n",
       "    <tr>\n",
       "      <th>3</th>\n",
       "      <td>300</td>\n",
       "      <td>PN</td>\n",
       "      <td>13</td>\n",
       "      <td>70030346</td>\n",
       "      <td>70030346</td>\n",
       "      <td>Señor(a)</td>\n",
       "      <td>ALBERTO LONDONO</td>\n",
       "      <td>CLIENTE TRNASPORTA</td>\n",
       "      <td>MEDELLIN</td>\n",
       "      <td>CO</td>\n",
       "      <td>...</td>\n",
       "      <td>LUISZAP</td>\n",
       "      <td>2018.03.28</td>\n",
       "      <td>07:31:51</td>\n",
       "      <td>LUISZAP</td>\n",
       "      <td>2</td>\n",
       "      <td></td>\n",
       "      <td>1</td>\n",
       "      <td>5001</td>\n",
       "      <td></td>\n",
       "      <td></td>\n",
       "    </tr>\n",
       "    <tr>\n",
       "      <th>4</th>\n",
       "      <td>300</td>\n",
       "      <td>PN</td>\n",
       "      <td>13</td>\n",
       "      <td>70040014</td>\n",
       "      <td>70040014</td>\n",
       "      <td>Señor(a)</td>\n",
       "      <td>PEDRO HERNANDEZ</td>\n",
       "      <td>COTIZACION</td>\n",
       "      <td>MEDELLIN</td>\n",
       "      <td>CO</td>\n",
       "      <td>...</td>\n",
       "      <td>LUISZAP</td>\n",
       "      <td>2018.03.28</td>\n",
       "      <td>07:31:51</td>\n",
       "      <td>LUISZAP</td>\n",
       "      <td>2</td>\n",
       "      <td></td>\n",
       "      <td>1</td>\n",
       "      <td>5001</td>\n",
       "      <td></td>\n",
       "      <td></td>\n",
       "    </tr>\n",
       "  </tbody>\n",
       "</table>\n",
       "<p>5 rows × 34 columns</p>\n",
       "</div>"
      ],
      "text/plain": [
       "   MANDT FITYP  STCDT     STCD1     KUNNR     ANRED             NAME1  \\\n",
       "0    300    PN     13    632453    632453  Señor(a)     GUSTAVO PARRA   \n",
       "1    300    PN     13  63311387  63311387  Señor(a)  ALMANZAR SANCHEZ   \n",
       "2    300    PN     13   6819796   6819796  Señor(a)   FERNANDO BOTERO   \n",
       "3    300    PN     13  70030346  70030346  Señor(a)   ALBERTO LONDONO   \n",
       "4    300    PN     13  70040014  70040014  Señor(a)   PEDRO HERNANDEZ   \n",
       "\n",
       "               STREET     CITY1 COUNTRY  ...    ERNAM       AEDAT     AEZET  \\\n",
       "0   CR 45 A 80 SUR 75  MEDELLIN      CO  ...  LUISZAP  2018.03.28  07:31:51   \n",
       "1             CORDOBA  MEDELLIN      CO  ...  LUISZAP  2018.03.28  07:31:51   \n",
       "2      CR 81 B 7 A 49  MEDELLIN      CO  ...  LUISZAP  2018.03.28  07:31:51   \n",
       "3  CLIENTE TRNASPORTA  MEDELLIN      CO  ...  LUISZAP  2018.03.28  07:31:51   \n",
       "4          COTIZACION  MEDELLIN      CO  ...  LUISZAP  2018.03.28  07:31:51   \n",
       "\n",
       "      UNAM IN_CLISAP CSTCNDGRP1 ZSD_HABEASDATA TRANSPZONE LANDX KTOKD  \n",
       "0  LUISZAP         2                         1       5001              \n",
       "1  LUISZAP         2                         1       5001              \n",
       "2  LUISZAP         2                         1       5001              \n",
       "3  LUISZAP         2                         1       5001              \n",
       "4  LUISZAP         2                         1       5001              \n",
       "\n",
       "[5 rows x 34 columns]"
      ]
     },
     "execution_count": 14,
     "metadata": {},
     "output_type": "execute_result"
    }
   ],
   "source": [
    "test.head()"
   ]
  },
  {
   "cell_type": "code",
   "execution_count": 13,
   "metadata": {},
   "outputs": [],
   "source": [
    "## Interactivo"
   ]
  },
  {
   "cell_type": "code",
   "execution_count": 15,
   "metadata": {},
   "outputs": [],
   "source": [
    "dl = Datalake('datalakeanaliticabi', '5368fc5a-2692-4a6a-b226-e2802e94e22b')"
   ]
  },
  {
   "cell_type": "code",
   "execution_count": 16,
   "metadata": {},
   "outputs": [],
   "source": [
    "test = dl.read_csv('hacebanalitica-user-cientificos/prueba/*.csv', header = None)"
   ]
  },
  {
   "cell_type": "code",
   "execution_count": null,
   "metadata": {},
   "outputs": [],
   "source": [
    "test = dl.read_csv('hacebanalitica/raw/sap/ztsd_clientepos/load_date=2022-05-04/ztsd_clientepos.csv', sep='|')"
   ]
  }
 ],
 "metadata": {
  "kernelspec": {
   "display_name": "Python 3.8.10 ('hdic')",
   "language": "python",
   "name": "python3"
  },
  "language_info": {
   "codemirror_mode": {
    "name": "ipython",
    "version": 3
   },
   "file_extension": ".py",
   "mimetype": "text/x-python",
   "name": "python",
   "nbconvert_exporter": "python",
   "pygments_lexer": "ipython3",
   "version": "3.8.10"
  },
  "orig_nbformat": 4,
  "vscode": {
   "interpreter": {
    "hash": "c96707a5e5d994c44d955d51ddeb24ec44152551ff8ce35675eb2d9d8e817870"
   }
  }
 },
 "nbformat": 4,
 "nbformat_minor": 2
}
