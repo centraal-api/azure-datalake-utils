{
 "cells": [
  {
   "cell_type": "code",
   "execution_count": null,
   "metadata": {},
   "outputs": [],
   "source": [
    "%pip install -i https://test.pypi.org/simple/ --extra-index-url=https://pypi.org/simple azure-datalake-utils==0.2.0.dev23"
   ]
  },
  {
   "cell_type": "code",
   "execution_count": 1,
   "metadata": {},
   "outputs": [],
   "source": [
    "%load_ext autoreload\n",
    "%autoreload 2"
   ]
  },
  {
   "cell_type": "code",
   "execution_count": 3,
   "metadata": {},
   "outputs": [
    {
     "name": "stdout",
     "output_type": "stream",
     "text": [
      "Found existing installation: azure-datalake-utils 0.5.1\n",
      "Uninstalling azure-datalake-utils-0.5.1:\n",
      "  Successfully uninstalled azure-datalake-utils-0.5.1\n",
      "Note: you may need to restart the kernel to use updated packages.\n"
     ]
    }
   ],
   "source": [
    "%pip uninstall azure-datalake-utils -y"
   ]
  },
  {
   "cell_type": "code",
   "execution_count": 1,
   "metadata": {},
   "outputs": [
    {
     "name": "stdout",
     "output_type": "stream",
     "text": [
      "\u001b[33mWARNING: Package(s) not found: azure-datalake-utils\u001b[0m\u001b[33m\n",
      "\u001b[0mNote: you may need to restart the kernel to use updated packages.\n"
     ]
    }
   ],
   "source": [
    "%pip show azure-datalake-utils"
   ]
  },
  {
   "cell_type": "code",
   "execution_count": 2,
   "metadata": {},
   "outputs": [],
   "source": [
    "import sys\n",
    "\n",
    "import pandas as pd\n",
    "\n",
    "sys.path.append('../')"
   ]
  },
  {
   "cell_type": "code",
   "execution_count": 3,
   "metadata": {},
   "outputs": [],
   "source": [
    "from azure_datalake_utils import Datalake"
   ]
  },
  {
   "cell_type": "code",
   "execution_count": 4,
   "metadata": {},
   "outputs": [],
   "source": [
    "import json\n",
    "\n",
    "with open('../keys.json') as f:\n",
    "    creds = json.load(f)\n"
   ]
  },
  {
   "attachments": {},
   "cell_type": "markdown",
   "metadata": {},
   "source": [
    "## reproducir el caso `BadZipFile`"
   ]
  },
  {
   "attachments": {},
   "cell_type": "markdown",
   "metadata": {},
   "source": [
    "Se observa un comportamiento extraño bajo estas condiciones:\n",
    "\n",
    "1. Se importa la libreria en un sesion de python.\n",
    "1. Se abre el archivo de excel y se reemplaza en el datalake.\n",
    "1. Usando la misma sesión de python, se trata de leer el archivo con `dl.read_excel(\"hacebanalitica-user-servicio/configuracion_valores_salesforce.xlsx\")`\n",
    "1. Una exepción `BadZipFile: File is not a zip file`.\n",
    "\n",
    "WorArounds:\n",
    "1. Reiniciar la sesión de python. Solo realizar esa acción ya el error no aparece.\n",
    "2. usar el `flag=True` ejemplo:\n",
    "\n",
    "```python\n",
    "excel = dl.read_excel(\"hacebanalitica-user-servicio/configuracion_valores_salesforce.xlsx\", sheet_name = 'familia', experimental = True)\n",
    "```\n",
    "Este flag es experimental y es una solución rapida para entornos donde reiniciar python de manera periodica no es una opción (ejemplo an Azure Functions.)"
   ]
  },
  {
   "cell_type": "code",
   "execution_count": 5,
   "metadata": {},
   "outputs": [],
   "source": [
    "dl = Datalake.from_account_key(**creds)"
   ]
  },
  {
   "cell_type": "code",
   "execution_count": null,
   "metadata": {},
   "outputs": [],
   "source": [
    "# modificar el archivo de excel a leer y subirlo a la misma ruta.\n",
    "excel = dl.read_excel(\"hacebanalitica-user-servicio/configuracion_valores_salesforce.xlsx\", sheet_name = 'familia')"
   ]
  },
  {
   "cell_type": "code",
   "execution_count": 15,
   "metadata": {},
   "outputs": [],
   "source": [
    "# si es usa el flag, ya no hay falla.\n",
    "excel = dl.read_excel(\"hacebanalitica-user-servicio/configuracion_valores_salesforce.xlsx\", sheet_name = 'familia', experimental = True)"
   ]
  },
  {
   "attachments": {},
   "cell_type": "markdown",
   "metadata": {},
   "source": [
    "## Uso normal."
   ]
  },
  {
   "cell_type": "code",
   "execution_count": 5,
   "metadata": {},
   "outputs": [],
   "source": [
    "dl = Datalake.from_account_key(**creds, fsspec_cache = False)"
   ]
  },
  {
   "cell_type": "code",
   "execution_count": 6,
   "metadata": {},
   "outputs": [],
   "source": [
    "df = pd.DataFrame({\"foo_str\": ['bar\\n', 'foo,', 'bar|'], \"bar_str\": [\"bar\", \"foo|\", \"bar\\r\"], \"foo\": [1, 2, 3]})"
   ]
  },
  {
   "cell_type": "code",
   "execution_count": 7,
   "metadata": {},
   "outputs": [],
   "source": [
    "dl.write_csv(df, 'hacebanalitica-user-cientificos/prueba/test.csv', sep='|')"
   ]
  },
  {
   "cell_type": "code",
   "execution_count": 32,
   "metadata": {},
   "outputs": [],
   "source": [
    "test = dl.read_csv('hacebanalitica-user-cientificos/prueba/test.csv', header = None,  sep='|')"
   ]
  },
  {
   "cell_type": "code",
   "execution_count": null,
   "metadata": {},
   "outputs": [],
   "source": [
    "test = dl.read_csv('hacebanalitica-curated-ventas/ventas/haceb/ventas/ventas_2022.csv', sep=';')"
   ]
  },
  {
   "cell_type": "code",
   "execution_count": 12,
   "metadata": {},
   "outputs": [
    {
     "name": "stderr",
     "output_type": "stream",
     "text": [
      "/home/german/repos/azure-datalake-utils/docs/../azure_datalake_utils/azure_datalake_utils.py:80: DtypeWarning: Columns (10,16,31) have mixed types. Specify dtype option on import or set low_memory=False.\n",
      "  df = pd.read_csv(f\"az://{ruta}\", storage_options=self.storage_options, **kwargs)\n"
     ]
    }
   ],
   "source": [
    "test = dl.read_csv('hacebanalitica/raw/sap/ztsd_clientepos/load_date=2022-05-04/ztsd_clientepos.csv', sep='|')"
   ]
  },
  {
   "cell_type": "code",
   "execution_count": 14,
   "metadata": {},
   "outputs": [
    {
     "data": {
      "text/html": [
       "<div>\n",
       "<style scoped>\n",
       "    .dataframe tbody tr th:only-of-type {\n",
       "        vertical-align: middle;\n",
       "    }\n",
       "\n",
       "    .dataframe tbody tr th {\n",
       "        vertical-align: top;\n",
       "    }\n",
       "\n",
       "    .dataframe thead th {\n",
       "        text-align: right;\n",
       "    }\n",
       "</style>\n",
       "<table border=\"1\" class=\"dataframe\">\n",
       "  <thead>\n",
       "    <tr style=\"text-align: right;\">\n",
       "      <th></th>\n",
       "      <th>MANDT</th>\n",
       "      <th>FITYP</th>\n",
       "      <th>STCDT</th>\n",
       "      <th>STCD1</th>\n",
       "      <th>KUNNR</th>\n",
       "      <th>ANRED</th>\n",
       "      <th>NAME1</th>\n",
       "      <th>STREET</th>\n",
       "      <th>CITY1</th>\n",
       "      <th>COUNTRY</th>\n",
       "      <th>...</th>\n",
       "      <th>ERNAM</th>\n",
       "      <th>AEDAT</th>\n",
       "      <th>AEZET</th>\n",
       "      <th>UNAM</th>\n",
       "      <th>IN_CLISAP</th>\n",
       "      <th>CSTCNDGRP1</th>\n",
       "      <th>ZSD_HABEASDATA</th>\n",
       "      <th>TRANSPZONE</th>\n",
       "      <th>LANDX</th>\n",
       "      <th>KTOKD</th>\n",
       "    </tr>\n",
       "  </thead>\n",
       "  <tbody>\n",
       "    <tr>\n",
       "      <th>0</th>\n",
       "      <td>300</td>\n",
       "      <td>PN</td>\n",
       "      <td>13</td>\n",
       "      <td>632453</td>\n",
       "      <td>632453</td>\n",
       "      <td>Señor(a)</td>\n",
       "      <td>GUSTAVO PARRA</td>\n",
       "      <td>CR 45 A 80 SUR 75</td>\n",
       "      <td>MEDELLIN</td>\n",
       "      <td>CO</td>\n",
       "      <td>...</td>\n",
       "      <td>LUISZAP</td>\n",
       "      <td>2018.03.28</td>\n",
       "      <td>07:31:51</td>\n",
       "      <td>LUISZAP</td>\n",
       "      <td>2</td>\n",
       "      <td></td>\n",
       "      <td>1</td>\n",
       "      <td>5001</td>\n",
       "      <td></td>\n",
       "      <td></td>\n",
       "    </tr>\n",
       "    <tr>\n",
       "      <th>1</th>\n",
       "      <td>300</td>\n",
       "      <td>PN</td>\n",
       "      <td>13</td>\n",
       "      <td>63311387</td>\n",
       "      <td>63311387</td>\n",
       "      <td>Señor(a)</td>\n",
       "      <td>ALMANZAR SANCHEZ</td>\n",
       "      <td>CORDOBA</td>\n",
       "      <td>MEDELLIN</td>\n",
       "      <td>CO</td>\n",
       "      <td>...</td>\n",
       "      <td>LUISZAP</td>\n",
       "      <td>2018.03.28</td>\n",
       "      <td>07:31:51</td>\n",
       "      <td>LUISZAP</td>\n",
       "      <td>2</td>\n",
       "      <td></td>\n",
       "      <td>1</td>\n",
       "      <td>5001</td>\n",
       "      <td></td>\n",
       "      <td></td>\n",
       "    </tr>\n",
       "    <tr>\n",
       "      <th>2</th>\n",
       "      <td>300</td>\n",
       "      <td>PN</td>\n",
       "      <td>13</td>\n",
       "      <td>6819796</td>\n",
       "      <td>6819796</td>\n",
       "      <td>Señor(a)</td>\n",
       "      <td>FERNANDO BOTERO</td>\n",
       "      <td>CR 81 B 7 A 49</td>\n",
       "      <td>MEDELLIN</td>\n",
       "      <td>CO</td>\n",
       "      <td>...</td>\n",
       "      <td>LUISZAP</td>\n",
       "      <td>2018.03.28</td>\n",
       "      <td>07:31:51</td>\n",
       "      <td>LUISZAP</td>\n",
       "      <td>2</td>\n",
       "      <td></td>\n",
       "      <td>1</td>\n",
       "      <td>5001</td>\n",
       "      <td></td>\n",
       "      <td></td>\n",
       "    </tr>\n",
       "    <tr>\n",
       "      <th>3</th>\n",
       "      <td>300</td>\n",
       "      <td>PN</td>\n",
       "      <td>13</td>\n",
       "      <td>70030346</td>\n",
       "      <td>70030346</td>\n",
       "      <td>Señor(a)</td>\n",
       "      <td>ALBERTO LONDONO</td>\n",
       "      <td>CLIENTE TRNASPORTA</td>\n",
       "      <td>MEDELLIN</td>\n",
       "      <td>CO</td>\n",
       "      <td>...</td>\n",
       "      <td>LUISZAP</td>\n",
       "      <td>2018.03.28</td>\n",
       "      <td>07:31:51</td>\n",
       "      <td>LUISZAP</td>\n",
       "      <td>2</td>\n",
       "      <td></td>\n",
       "      <td>1</td>\n",
       "      <td>5001</td>\n",
       "      <td></td>\n",
       "      <td></td>\n",
       "    </tr>\n",
       "    <tr>\n",
       "      <th>4</th>\n",
       "      <td>300</td>\n",
       "      <td>PN</td>\n",
       "      <td>13</td>\n",
       "      <td>70040014</td>\n",
       "      <td>70040014</td>\n",
       "      <td>Señor(a)</td>\n",
       "      <td>PEDRO HERNANDEZ</td>\n",
       "      <td>COTIZACION</td>\n",
       "      <td>MEDELLIN</td>\n",
       "      <td>CO</td>\n",
       "      <td>...</td>\n",
       "      <td>LUISZAP</td>\n",
       "      <td>2018.03.28</td>\n",
       "      <td>07:31:51</td>\n",
       "      <td>LUISZAP</td>\n",
       "      <td>2</td>\n",
       "      <td></td>\n",
       "      <td>1</td>\n",
       "      <td>5001</td>\n",
       "      <td></td>\n",
       "      <td></td>\n",
       "    </tr>\n",
       "  </tbody>\n",
       "</table>\n",
       "<p>5 rows × 34 columns</p>\n",
       "</div>"
      ],
      "text/plain": [
       "   MANDT FITYP  STCDT     STCD1     KUNNR     ANRED             NAME1  \\\n",
       "0    300    PN     13    632453    632453  Señor(a)     GUSTAVO PARRA   \n",
       "1    300    PN     13  63311387  63311387  Señor(a)  ALMANZAR SANCHEZ   \n",
       "2    300    PN     13   6819796   6819796  Señor(a)   FERNANDO BOTERO   \n",
       "3    300    PN     13  70030346  70030346  Señor(a)   ALBERTO LONDONO   \n",
       "4    300    PN     13  70040014  70040014  Señor(a)   PEDRO HERNANDEZ   \n",
       "\n",
       "               STREET     CITY1 COUNTRY  ...    ERNAM       AEDAT     AEZET  \\\n",
       "0   CR 45 A 80 SUR 75  MEDELLIN      CO  ...  LUISZAP  2018.03.28  07:31:51   \n",
       "1             CORDOBA  MEDELLIN      CO  ...  LUISZAP  2018.03.28  07:31:51   \n",
       "2      CR 81 B 7 A 49  MEDELLIN      CO  ...  LUISZAP  2018.03.28  07:31:51   \n",
       "3  CLIENTE TRNASPORTA  MEDELLIN      CO  ...  LUISZAP  2018.03.28  07:31:51   \n",
       "4          COTIZACION  MEDELLIN      CO  ...  LUISZAP  2018.03.28  07:31:51   \n",
       "\n",
       "      UNAM IN_CLISAP CSTCNDGRP1 ZSD_HABEASDATA TRANSPZONE LANDX KTOKD  \n",
       "0  LUISZAP         2                         1       5001              \n",
       "1  LUISZAP         2                         1       5001              \n",
       "2  LUISZAP         2                         1       5001              \n",
       "3  LUISZAP         2                         1       5001              \n",
       "4  LUISZAP         2                         1       5001              \n",
       "\n",
       "[5 rows x 34 columns]"
      ]
     },
     "execution_count": 14,
     "metadata": {},
     "output_type": "execute_result"
    }
   ],
   "source": [
    "test.head()"
   ]
  },
  {
   "attachments": {},
   "cell_type": "markdown",
   "metadata": {},
   "source": [
    "### Interactivo"
   ]
  },
  {
   "cell_type": "code",
   "execution_count": 15,
   "metadata": {},
   "outputs": [],
   "source": [
    "dl = Datalake('datalakeanaliticabi', '5368fc5a-2692-4a6a-b226-e2802e94e22b')"
   ]
  },
  {
   "cell_type": "code",
   "execution_count": 16,
   "metadata": {},
   "outputs": [],
   "source": [
    "test = dl.read_csv('hacebanalitica-user-cientificos/prueba/*.csv', header = None)"
   ]
  },
  {
   "cell_type": "code",
   "execution_count": null,
   "metadata": {},
   "outputs": [],
   "source": [
    "test = dl.read_csv('hacebanalitica/raw/sap/ztsd_clientepos/load_date=2022-05-04/ztsd_clientepos.csv', sep='|')"
   ]
  },
  {
   "attachments": {},
   "cell_type": "markdown",
   "metadata": {},
   "source": [
    "## Como usar las particiones"
   ]
  },
  {
   "attachments": {},
   "cell_type": "markdown",
   "metadata": {},
   "source": [
    "La libreria tiene la funcionalidad de leer las particiones. Tipo Hive, solo se soporta esta funcionalidad cuando es incializado por account key."
   ]
  },
  {
   "cell_type": "code",
   "execution_count": 11,
   "metadata": {},
   "outputs": [],
   "source": [
    "dl = Datalake.from_account_key(**creds)"
   ]
  },
  {
   "cell_type": "code",
   "execution_count": 16,
   "metadata": {},
   "outputs": [],
   "source": [
    "# la libreria descubre las particiones.\n",
    "# filtrando la particion final , para obtener el ultimo valor.\n",
    "users = dl.read_csv_with_partition(\"hacebanalitica/raw/tuya_cloud/users/\", last_modified_last_level=True, sep = \"|\")"
   ]
  },
  {
   "cell_type": "code",
   "execution_count": 19,
   "metadata": {},
   "outputs": [
    {
     "data": {
      "text/plain": [
       "'concatenacion de todos'"
      ]
     },
     "metadata": {},
     "output_type": "display_data"
    },
    {
     "data": {
      "text/html": [
       "<div>\n",
       "<style scoped>\n",
       "    .dataframe tbody tr th:only-of-type {\n",
       "        vertical-align: middle;\n",
       "    }\n",
       "\n",
       "    .dataframe tbody tr th {\n",
       "        vertical-align: top;\n",
       "    }\n",
       "\n",
       "    .dataframe thead th {\n",
       "        text-align: right;\n",
       "    }\n",
       "</style>\n",
       "<table border=\"1\" class=\"dataframe\">\n",
       "  <thead>\n",
       "    <tr style=\"text-align: right;\">\n",
       "      <th></th>\n",
       "      <th>avatar</th>\n",
       "      <th>country_code</th>\n",
       "      <th>create_time</th>\n",
       "      <th>email</th>\n",
       "      <th>mobile</th>\n",
       "      <th>nick_name</th>\n",
       "      <th>temp_unit</th>\n",
       "      <th>time_zone_id</th>\n",
       "      <th>uid</th>\n",
       "      <th>update_time</th>\n",
       "      <th>user_properties</th>\n",
       "      <th>username</th>\n",
       "      <th>start_date</th>\n",
       "    </tr>\n",
       "  </thead>\n",
       "  <tbody>\n",
       "    <tr>\n",
       "      <th>21089</th>\n",
       "      <td>NaN</td>\n",
       "      <td>57</td>\n",
       "      <td>2022-10-13 04:06:57</td>\n",
       "      <td>osnaiderwendy18@gmail.com</td>\n",
       "      <td>NaN</td>\n",
       "      <td>NaN</td>\n",
       "      <td>1</td>\n",
       "      <td>America/Bogota</td>\n",
       "      <td>az16656340174644JPxY</td>\n",
       "      <td>2022-10-13 04:07:18</td>\n",
       "      <td>[{'code': 'dataAuthorization', 'value': '1', '...</td>\n",
       "      <td>245861383be64718bab52394555c1888</td>\n",
       "      <td>2022_11_27</td>\n",
       "    </tr>\n",
       "    <tr>\n",
       "      <th>21712</th>\n",
       "      <td>NaN</td>\n",
       "      <td>57</td>\n",
       "      <td>2022-05-15 02:23:19</td>\n",
       "      <td>salgadosare@gmail.com</td>\n",
       "      <td>NaN</td>\n",
       "      <td>NaN</td>\n",
       "      <td>1</td>\n",
       "      <td>America/Bogota</td>\n",
       "      <td>az1652581399656TOcsE</td>\n",
       "      <td>2022-05-15 02:23:30</td>\n",
       "      <td>[{'code': 'dataAuthorization', 'value': '1', '...</td>\n",
       "      <td>f9b2c9abb2e7429c83cd1284eba950a2</td>\n",
       "      <td>2022_11_26</td>\n",
       "    </tr>\n",
       "    <tr>\n",
       "      <th>4891</th>\n",
       "      <td>NaN</td>\n",
       "      <td>57</td>\n",
       "      <td>2022-11-14 23:15:49</td>\n",
       "      <td>rodrigo.17arroyo@hotmail.com</td>\n",
       "      <td>NaN</td>\n",
       "      <td>NaN</td>\n",
       "      <td>1</td>\n",
       "      <td>America/Bogota</td>\n",
       "      <td>az1668467749587ZgFiE</td>\n",
       "      <td>2022-11-14 23:16:12</td>\n",
       "      <td>[{'code': 'dataAuthorization', 'value': '1', '...</td>\n",
       "      <td>75a57b761a524a18bc9aca904137ef27</td>\n",
       "      <td>2022_12_07</td>\n",
       "    </tr>\n",
       "    <tr>\n",
       "      <th>37791</th>\n",
       "      <td>NaN</td>\n",
       "      <td>57</td>\n",
       "      <td>2022-09-03 19:42:30</td>\n",
       "      <td>primeroerg@gmail.com</td>\n",
       "      <td>NaN</td>\n",
       "      <td>NaN</td>\n",
       "      <td>1</td>\n",
       "      <td>America/Bogota</td>\n",
       "      <td>az1662234150190Lj3rg</td>\n",
       "      <td>2022-09-03 19:42:42</td>\n",
       "      <td>[{'code': 'dataAuthorization', 'value': '1', '...</td>\n",
       "      <td>a5bdf07b25404f9cae077e907eeb8b91</td>\n",
       "      <td>2022_11_16</td>\n",
       "    </tr>\n",
       "    <tr>\n",
       "      <th>28045</th>\n",
       "      <td>NaN</td>\n",
       "      <td>57</td>\n",
       "      <td>2022-06-06 03:02:20</td>\n",
       "      <td>jaimeraulfuentes@gmail.com</td>\n",
       "      <td>NaN</td>\n",
       "      <td>NaN</td>\n",
       "      <td>1</td>\n",
       "      <td>America/Bogota</td>\n",
       "      <td>az16544845402385rW9T</td>\n",
       "      <td>2022-06-06 03:02:28</td>\n",
       "      <td>[{'code': 'dataAuthorization', 'value': '1', '...</td>\n",
       "      <td>eba1e0bd1e5f4cb9a94a6e4e8afa1dc9</td>\n",
       "      <td>2022_11_22</td>\n",
       "    </tr>\n",
       "  </tbody>\n",
       "</table>\n",
       "</div>"
      ],
      "text/plain": [
       "      avatar  country_code          create_time                         email  \\\n",
       "21089    NaN            57  2022-10-13 04:06:57     osnaiderwendy18@gmail.com   \n",
       "21712    NaN            57  2022-05-15 02:23:19         salgadosare@gmail.com   \n",
       "4891     NaN            57  2022-11-14 23:15:49  rodrigo.17arroyo@hotmail.com   \n",
       "37791    NaN            57  2022-09-03 19:42:30          primeroerg@gmail.com   \n",
       "28045    NaN            57  2022-06-06 03:02:20    jaimeraulfuentes@gmail.com   \n",
       "\n",
       "       mobile nick_name  temp_unit    time_zone_id                   uid  \\\n",
       "21089     NaN       NaN          1  America/Bogota  az16656340174644JPxY   \n",
       "21712     NaN       NaN          1  America/Bogota  az1652581399656TOcsE   \n",
       "4891      NaN       NaN          1  America/Bogota  az1668467749587ZgFiE   \n",
       "37791     NaN       NaN          1  America/Bogota  az1662234150190Lj3rg   \n",
       "28045     NaN       NaN          1  America/Bogota  az16544845402385rW9T   \n",
       "\n",
       "               update_time                                    user_properties  \\\n",
       "21089  2022-10-13 04:07:18  [{'code': 'dataAuthorization', 'value': '1', '...   \n",
       "21712  2022-05-15 02:23:30  [{'code': 'dataAuthorization', 'value': '1', '...   \n",
       "4891   2022-11-14 23:16:12  [{'code': 'dataAuthorization', 'value': '1', '...   \n",
       "37791  2022-09-03 19:42:42  [{'code': 'dataAuthorization', 'value': '1', '...   \n",
       "28045  2022-06-06 03:02:28  [{'code': 'dataAuthorization', 'value': '1', '...   \n",
       "\n",
       "                               username  start_date  \n",
       "21089  245861383be64718bab52394555c1888  2022_11_27  \n",
       "21712  f9b2c9abb2e7429c83cd1284eba950a2  2022_11_26  \n",
       "4891   75a57b761a524a18bc9aca904137ef27  2022_12_07  \n",
       "37791  a5bdf07b25404f9cae077e907eeb8b91  2022_11_16  \n",
       "28045  eba1e0bd1e5f4cb9a94a6e4e8afa1dc9  2022_11_22  "
      ]
     },
     "metadata": {},
     "output_type": "display_data"
    },
    {
     "data": {
      "text/plain": [
       "(72230, 13)"
      ]
     },
     "metadata": {},
     "output_type": "display_data"
    },
    {
     "data": {
      "text/plain": [
       "'se incluye la partición inferida'"
      ]
     },
     "metadata": {},
     "output_type": "display_data"
    },
    {
     "data": {
      "text/plain": [
       "array(['2022_12_09', '2022_12_08', '2022_12_07', '2022_12_06',\n",
       "       '2022_12_05', '2022_12_04', '2022_12_03', '2022_12_02',\n",
       "       '2022_12_01', '2022_11_30', '2022_11_29', '2022_11_28',\n",
       "       '2022_11_27', '2022_11_26', '2022_11_25', '2022_11_24',\n",
       "       '2022_11_23', '2022_11_22', '2022_11_21', '2022_11_20',\n",
       "       '2022_11_19', '2022_11_18', '2022_11_17', '2022_11_16',\n",
       "       '2022_11_15', '2022_11_14', '2022_11_13', '2022_11_12',\n",
       "       '2022_11_11', '2022_11_10', '2022_11_09', '2022_11_08',\n",
       "       '2022_11_07', '2022_11_06', '2022_11_05', '2022_11_04',\n",
       "       '2022_11_03', '2022_11_02', '2022_11_01', '2022_10_31',\n",
       "       '2022_10_30', '2022_10_29', '2022_10_28', '2022_10_27',\n",
       "       '2022_10_26', '2022_10_25', '2022_10_24', '2022_09_24'],\n",
       "      dtype=object)"
      ]
     },
     "metadata": {},
     "output_type": "display_data"
    }
   ],
   "source": [
    "display(\"concatenacion de todos\", users.sample(5), users.shape, \"se incluye la partición inferida\", users.start_date.unique())"
   ]
  },
  {
   "cell_type": "code",
   "execution_count": 20,
   "metadata": {},
   "outputs": [],
   "source": [
    "# la libreria descubre las particiones, de toda la estructura\n",
    "users = dl.read_csv_with_partition(\"hacebanalitica/raw/tuya_cloud/users/\", last_modified_last_level=False, sep = \"|\")"
   ]
  },
  {
   "cell_type": "code",
   "execution_count": 21,
   "metadata": {},
   "outputs": [
    {
     "data": {
      "text/plain": [
       "'concatenacion de todos'"
      ]
     },
     "metadata": {},
     "output_type": "display_data"
    },
    {
     "data": {
      "text/html": [
       "<div>\n",
       "<style scoped>\n",
       "    .dataframe tbody tr th:only-of-type {\n",
       "        vertical-align: middle;\n",
       "    }\n",
       "\n",
       "    .dataframe tbody tr th {\n",
       "        vertical-align: top;\n",
       "    }\n",
       "\n",
       "    .dataframe thead th {\n",
       "        text-align: right;\n",
       "    }\n",
       "</style>\n",
       "<table border=\"1\" class=\"dataframe\">\n",
       "  <thead>\n",
       "    <tr style=\"text-align: right;\">\n",
       "      <th></th>\n",
       "      <th>avatar</th>\n",
       "      <th>country_code</th>\n",
       "      <th>create_time</th>\n",
       "      <th>email</th>\n",
       "      <th>mobile</th>\n",
       "      <th>nick_name</th>\n",
       "      <th>temp_unit</th>\n",
       "      <th>time_zone_id</th>\n",
       "      <th>uid</th>\n",
       "      <th>update_time</th>\n",
       "      <th>user_properties</th>\n",
       "      <th>username</th>\n",
       "      <th>start_date</th>\n",
       "      <th>load_date</th>\n",
       "    </tr>\n",
       "  </thead>\n",
       "  <tbody>\n",
       "    <tr>\n",
       "      <th>63973</th>\n",
       "      <td>NaN</td>\n",
       "      <td>57</td>\n",
       "      <td>2022-09-29 01:52:29</td>\n",
       "      <td>juancarlosmorales504@gmail.com</td>\n",
       "      <td>NaN</td>\n",
       "      <td>NaN</td>\n",
       "      <td>1</td>\n",
       "      <td>America/Bogota</td>\n",
       "      <td>az1664416349049G4yre</td>\n",
       "      <td>2022-09-29 01:52:41</td>\n",
       "      <td>[{'code': 'dataAuthorization', 'value': '1', '...</td>\n",
       "      <td>4e98bb7c22e44cfda95cd287bc373b31</td>\n",
       "      <td>2022_10_29</td>\n",
       "      <td>2022_10_30</td>\n",
       "    </tr>\n",
       "    <tr>\n",
       "      <th>60410</th>\n",
       "      <td>NaN</td>\n",
       "      <td>57</td>\n",
       "      <td>2022-05-17 03:06:31</td>\n",
       "      <td>andres.vargas@haceb.com</td>\n",
       "      <td>NaN</td>\n",
       "      <td>ANDRESVAR</td>\n",
       "      <td>1</td>\n",
       "      <td>America/Bogota</td>\n",
       "      <td>az1652756791761O1izO</td>\n",
       "      <td>2022-05-17 04:32:24</td>\n",
       "      <td>[{'code': 'dataAuthorization', 'value': '1', '...</td>\n",
       "      <td>1036926691</td>\n",
       "      <td>2022_10_31</td>\n",
       "      <td>2022_11_01</td>\n",
       "    </tr>\n",
       "  </tbody>\n",
       "</table>\n",
       "</div>"
      ],
      "text/plain": [
       "      avatar  country_code          create_time  \\\n",
       "63973    NaN            57  2022-09-29 01:52:29   \n",
       "60410    NaN            57  2022-05-17 03:06:31   \n",
       "\n",
       "                                email  mobile   nick_name  temp_unit  \\\n",
       "63973  juancarlosmorales504@gmail.com     NaN         NaN          1   \n",
       "60410         andres.vargas@haceb.com     NaN  ANDRESVAR           1   \n",
       "\n",
       "         time_zone_id                   uid          update_time  \\\n",
       "63973  America/Bogota  az1664416349049G4yre  2022-09-29 01:52:41   \n",
       "60410  America/Bogota  az1652756791761O1izO  2022-05-17 04:32:24   \n",
       "\n",
       "                                         user_properties  \\\n",
       "63973  [{'code': 'dataAuthorization', 'value': '1', '...   \n",
       "60410  [{'code': 'dataAuthorization', 'value': '1', '...   \n",
       "\n",
       "                               username  start_date   load_date  \n",
       "63973  4e98bb7c22e44cfda95cd287bc373b31  2022_10_29  2022_10_30  \n",
       "60410                        1036926691  2022_10_31  2022_11_01  "
      ]
     },
     "metadata": {},
     "output_type": "display_data"
    },
    {
     "data": {
      "text/plain": [
       "(72230, 14)"
      ]
     },
     "metadata": {},
     "output_type": "display_data"
    },
    {
     "data": {
      "text/plain": [
       "'se incluye la partición inferida'"
      ]
     },
     "metadata": {},
     "output_type": "display_data"
    },
    {
     "data": {
      "text/plain": [
       "array(['2022_12_09', '2022_12_08', '2022_12_07', '2022_12_06',\n",
       "       '2022_12_05', '2022_12_04', '2022_12_03', '2022_12_02',\n",
       "       '2022_12_01', '2022_11_30', '2022_11_29', '2022_11_28',\n",
       "       '2022_11_27', '2022_11_26', '2022_11_25', '2022_11_24',\n",
       "       '2022_11_23', '2022_11_22', '2022_11_21', '2022_11_20',\n",
       "       '2022_11_19', '2022_11_18', '2022_11_17', '2022_11_16',\n",
       "       '2022_11_15', '2022_11_14', '2022_11_13', '2022_11_12',\n",
       "       '2022_11_11', '2022_11_10', '2022_11_09', '2022_11_08',\n",
       "       '2022_11_07', '2022_11_06', '2022_11_05', '2022_11_04',\n",
       "       '2022_11_03', '2022_11_02', '2022_11_01', '2022_10_31',\n",
       "       '2022_10_30', '2022_10_29', '2022_10_28', '2022_10_27',\n",
       "       '2022_10_26', '2022_10_25', '2022_10_24', '2022_09_24'],\n",
       "      dtype=object)"
      ]
     },
     "metadata": {},
     "output_type": "display_data"
    },
    {
     "data": {
      "text/plain": [
       "array(['2022_12_10', '2022_12_09', '2022_12_08', '2022_12_07',\n",
       "       '2022_12_06', '2022_12_05', '2022_12_04', '2022_12_03',\n",
       "       '2022_12_02', '2022_12_01', '2022_11_30', '2022_11_29',\n",
       "       '2022_11_28', '2022_11_27', '2022_11_26', '2022_11_25',\n",
       "       '2022_11_24', '2022_11_23', '2022_11_22', '2022_11_21',\n",
       "       '2022_11_20', '2022_11_19', '2022_11_18', '2022_11_17',\n",
       "       '2022_11_16', '2022_11_15', '2022_11_14', '2022_11_13',\n",
       "       '2022_11_12', '2022_11_11', '2022_11_10', '2022_11_09',\n",
       "       '2022_11_08', '2022_11_07', '2022_11_06', '2022_11_05',\n",
       "       '2022_11_04', '2022_11_03', '2022_11_02', '2022_11_01',\n",
       "       '2022_10_31', '2022_10_30', '2022_10_29', '2022_10_28',\n",
       "       '2022_10_27', '2022_10_26', '2022_10_25', '2022_10_24'],\n",
       "      dtype=object)"
      ]
     },
     "metadata": {},
     "output_type": "display_data"
    }
   ],
   "source": [
    "display(\"concatenacion de todos\", users.sample(2), users.shape, \"se incluye la partición inferida\", users.start_date.unique(), users.load_date.unique())"
   ]
  },
  {
   "cell_type": "code",
   "execution_count": 22,
   "metadata": {},
   "outputs": [],
   "source": [
    "# la libreria descubre las particione y excluye las que no necesita.\n",
    "fechas_a_filtrar = ['2022_12_09', '2022_12_08', '2022_12_07', '2022_12_06',\n",
    "       '2022_12_05', '2022_12_04', '2022_12_03', '2022_12_02']\n",
    "users = dl.read_csv_with_partition(\"hacebanalitica/raw/tuya_cloud/users/\", last_modified_last_level=True, sep = \"|\", partition_exclusion={'start_date': fechas_a_filtrar})"
   ]
  },
  {
   "cell_type": "code",
   "execution_count": 24,
   "metadata": {},
   "outputs": [
    {
     "data": {
      "text/plain": [
       "False"
      ]
     },
     "execution_count": 24,
     "metadata": {},
     "output_type": "execute_result"
    }
   ],
   "source": [
    "'2022_12_03' in users.start_date.unique()"
   ]
  },
  {
   "cell_type": "code",
   "execution_count": 25,
   "metadata": {},
   "outputs": [
    {
     "data": {
      "text/plain": [
       "False"
      ]
     },
     "execution_count": 25,
     "metadata": {},
     "output_type": "execute_result"
    }
   ],
   "source": [
    "'2022_12_02' in users.start_date.unique()"
   ]
  },
  {
   "cell_type": "code",
   "execution_count": 26,
   "metadata": {},
   "outputs": [],
   "source": [
    "# O incluye las que se desea\n",
    "fechas_a_filtrar = ['2022_12_09', '2022_12_08', '2022_12_07']\n",
    "users = dl.read_csv_with_partition(\"hacebanalitica/raw/tuya_cloud/users/\", last_modified_last_level=True, sep = \"|\", partition_inclusion={'start_date': fechas_a_filtrar})"
   ]
  },
  {
   "cell_type": "code",
   "execution_count": 29,
   "metadata": {},
   "outputs": [
    {
     "data": {
      "text/plain": [
       "array(['2022_12_09', '2022_12_08', '2022_12_07'], dtype=object)"
      ]
     },
     "execution_count": 29,
     "metadata": {},
     "output_type": "execute_result"
    }
   ],
   "source": [
    "users.start_date.unique()"
   ]
  },
  {
   "cell_type": "code",
   "execution_count": 30,
   "metadata": {},
   "outputs": [],
   "source": [
    "# Si se sabe a priori la estrctura de las particiones\n",
    "# se pueden especificar los valores que se quiere.\n",
    "# esta es la opción mas rapida, ya que se evita el auto descubrimiento\n",
    "# y se lee la particiones que se quieren.\n",
    "cols = {'start_date': ['2022_12_09', '2022_12_08']}\n",
    "users = dl.read_csv_with_partition(\"hacebanalitica/raw/tuya_cloud/users/\", last_modified_last_level=True, sep = \"|\", partition_cols=cols)"
   ]
  },
  {
   "cell_type": "code",
   "execution_count": 32,
   "metadata": {},
   "outputs": [
    {
     "data": {
      "text/plain": [
       "array(['2022_12_09', '2022_12_08'], dtype=object)"
      ]
     },
     "execution_count": 32,
     "metadata": {},
     "output_type": "execute_result"
    }
   ],
   "source": [
    "users.start_date.unique()"
   ]
  },
  {
   "attachments": {},
   "cell_type": "markdown",
   "metadata": {},
   "source": [
    "## Probar el uso del FS"
   ]
  },
  {
   "cell_type": "code",
   "execution_count": 4,
   "metadata": {},
   "outputs": [],
   "source": [
    "from adlfs import AzureBlobFileSystem"
   ]
  },
  {
   "cell_type": "code",
   "execution_count": 5,
   "metadata": {},
   "outputs": [],
   "source": [
    "fs = AzureBlobFileSystem(account_name=creds['datalake_name'], account_key=creds['account_key'])"
   ]
  },
  {
   "cell_type": "code",
   "execution_count": null,
   "metadata": {},
   "outputs": [],
   "source": [
    "fs.find(\"hacebanalitica/raw/tuya_cloud/devices/\")[0:10]"
   ]
  }
 ],
 "metadata": {
  "kernelspec": {
   "display_name": "Python 3.8.10 ('adl_utils')",
   "language": "python",
   "name": "python3"
  },
  "language_info": {
   "codemirror_mode": {
    "name": "ipython",
    "version": 3
   },
   "file_extension": ".py",
   "mimetype": "text/x-python",
   "name": "python",
   "nbconvert_exporter": "python",
   "pygments_lexer": "ipython3",
   "version": "3.8.10"
  },
  "orig_nbformat": 4,
  "vscode": {
   "interpreter": {
    "hash": "743db36a5e4e3179dc25f5e4accad7188f145bc728d3a3aad7b939caec0a0c20"
   }
  }
 },
 "nbformat": 4,
 "nbformat_minor": 2
}
