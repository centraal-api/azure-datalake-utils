{
 "cells": [
  {
   "cell_type": "code",
   "execution_count": null,
   "metadata": {},
   "outputs": [],
   "source": [
    "%pip install -i https://test.pypi.org/simple/ --extra-index-url=https://pypi.org/simple azure-datalake-utils==0.2.0.dev23"
   ]
  },
  {
   "cell_type": "code",
   "execution_count": 1,
   "metadata": {},
   "outputs": [],
   "source": [
    "%load_ext autoreload\n",
    "%autoreload 2"
   ]
  },
  {
   "cell_type": "code",
   "execution_count": 2,
   "metadata": {},
   "outputs": [
    {
     "name": "stdout",
     "output_type": "stream",
     "text": [
      "\u001b[33mWARNING: Skipping azure-datalake-utils as it is not installed.\u001b[0m\u001b[33m\n",
      "\u001b[0mNote: you may need to restart the kernel to use updated packages.\n"
     ]
    }
   ],
   "source": [
    "%pip uninstall azure-datalake-utils -y"
   ]
  },
  {
   "cell_type": "code",
   "execution_count": 3,
   "metadata": {},
   "outputs": [
    {
     "name": "stdout",
     "output_type": "stream",
     "text": [
      "\u001b[33mWARNING: Package(s) not found: azure-datalake-utils\u001b[0m\u001b[33m\n",
      "\u001b[0mNote: you may need to restart the kernel to use updated packages.\n"
     ]
    }
   ],
   "source": [
    "%pip show azure-datalake-utils"
   ]
  },
  {
   "cell_type": "code",
   "execution_count": 1,
   "metadata": {},
   "outputs": [],
   "source": [
    "import sys\n",
    "\n",
    "import pandas as pd\n",
    "\n",
    "sys.path.append('../')"
   ]
  },
  {
   "cell_type": "code",
   "execution_count": 2,
   "metadata": {},
   "outputs": [],
   "source": [
    "from azure_datalake_utils import Datalake"
   ]
  },
  {
   "cell_type": "code",
   "execution_count": 3,
   "metadata": {},
   "outputs": [],
   "source": [
    "import json\n",
    "\n",
    "with open('../keys.json') as f:\n",
    "    creds = json.load(f)\n"
   ]
  },
  {
   "cell_type": "markdown",
   "metadata": {},
   "source": [
    "## reproducir el caso `BadZipFile`\n",
    "\n",
    "Se observa un comportamiento extraño bajo estas condiciones:\n",
    "\n",
    "1. Se importa la libreria en un sesion de python.\n",
    "1. Se abre el archivo de excel y se reemplaza en el datalake.\n",
    "1. Usando la misma sesión de python, se trata de leer el archivo con `dl.read_excel(\"hacebanalitica-user-servicio/configuracion_valores_salesforce.xlsx\")`\n",
    "1. Una exepción `BadZipFile: File is not a zip file`.\n",
    "\n",
    "WorArounds:\n",
    "1. Reiniciar la sesión de python. Solo realizar esa acción ya el error no aparece.\n",
    "2. usar el `flag=True` ejemplo:\n",
    "\n",
    "```python\n",
    "excel = dl.read_excel(\"hacebanalitica-user-servicio/configuracion_valores_salesforce.xlsx\", sheet_name = 'familia', experimental = True)\n",
    "```\n",
    "Este flag es experimental y es una solución rapida para entornos donde reiniciar python de manera periodica no es una opción (ejemplo an Azure Functions.)"
   ]
  },
  {
   "cell_type": "code",
   "execution_count": 5,
   "metadata": {},
   "outputs": [],
   "source": [
    "dl = Datalake.from_account_key(**creds)"
   ]
  },
  {
   "cell_type": "code",
   "execution_count": null,
   "metadata": {},
   "outputs": [],
   "source": [
    "# modificar el archivo de excel a leer y subirlo a la misma ruta.\n",
    "excel = dl.read_excel(\"hacebanalitica-user-servicio/configuracion_valores_salesforce.xlsx\", sheet_name = 'familia')"
   ]
  },
  {
   "cell_type": "code",
   "execution_count": 15,
   "metadata": {},
   "outputs": [],
   "source": [
    "# si es usa el flag, ya no hay falla.\n",
    "excel = dl.read_excel(\"hacebanalitica-user-servicio/configuracion_valores_salesforce.xlsx\", sheet_name = 'familia', experimental = True)"
   ]
  },
  {
   "cell_type": "markdown",
   "metadata": {},
   "source": [
    "## Uso normal."
   ]
  },
  {
   "cell_type": "code",
   "execution_count": 6,
   "metadata": {},
   "outputs": [],
   "source": [
    "df = pd.DataFrame({\"foo_str\": ['bar\\n', 'foo,', 'bar|'], \"bar_str\": [\"bar\", \"foo|\", \"bar\\r\"], \"foo\": [1, 2, 3]})"
   ]
  },
  {
   "cell_type": "code",
   "execution_count": 9,
   "metadata": {},
   "outputs": [],
   "source": [
    "dl.write_csv(df, 'hacebanalitica-user-cientificos/prueba/test.csv', sep='|')"
   ]
  },
  {
   "cell_type": "code",
   "execution_count": 8,
   "metadata": {},
   "outputs": [],
   "source": [
    "test = dl.read_csv('hacebanalitica-user-cientificos/prueba/*.csv', header = None)"
   ]
  },
  {
   "cell_type": "code",
   "execution_count": 9,
   "metadata": {},
   "outputs": [
    {
     "name": "stderr",
     "output_type": "stream",
     "text": [
      "/home/german/repos/azure-datalake-utils/docs/../azure_datalake_utils/azure_datalake_utils.py:80: DtypeWarning: Columns (11,15,16,17,38,57) have mixed types. Specify dtype option on import or set low_memory=False.\n",
      "  df = pd.read_csv(f\"az://{ruta}\", storage_options=self.storage_options, **kwargs)\n"
     ]
    }
   ],
   "source": [
    "test = dl.read_csv('hacebanalitica-curated-ventas/ventas/haceb/ventas/ventas_2022.csv', sep=';')"
   ]
  },
  {
   "cell_type": "code",
   "execution_count": 11,
   "metadata": {},
   "outputs": [
    {
     "data": {
      "text/html": [
       "<div>\n",
       "<style scoped>\n",
       "    .dataframe tbody tr th:only-of-type {\n",
       "        vertical-align: middle;\n",
       "    }\n",
       "\n",
       "    .dataframe tbody tr th {\n",
       "        vertical-align: top;\n",
       "    }\n",
       "\n",
       "    .dataframe thead th {\n",
       "        text-align: right;\n",
       "    }\n",
       "</style>\n",
       "<table border=\"1\" class=\"dataframe\">\n",
       "  <thead>\n",
       "    <tr style=\"text-align: right;\">\n",
       "      <th></th>\n",
       "      <th>NdeFactur</th>\n",
       "      <th>ClasedeFactura</th>\n",
       "      <th>DescripcionFactura</th>\n",
       "      <th>Clase de Pedido</th>\n",
       "      <th>Descripcion ClasePedido</th>\n",
       "      <th>CodigoMaterial</th>\n",
       "      <th>NombreMaterial</th>\n",
       "      <th>Cantidad</th>\n",
       "      <th>EstadodeContabilizacion</th>\n",
       "      <th>CodigoPagador</th>\n",
       "      <th>...</th>\n",
       "      <th>Oficina de Ventas</th>\n",
       "      <th>Descripción Oficina de Ventas</th>\n",
       "      <th>Margen</th>\n",
       "      <th>Sociedad</th>\n",
       "      <th>Org Ventas</th>\n",
       "      <th>Grupo de Comisiones</th>\n",
       "      <th>Descripción Grupo de Comisiones</th>\n",
       "      <th>Descripción Nivel Privilegio</th>\n",
       "      <th>Email_ZPOS</th>\n",
       "      <th>Habeas_Data</th>\n",
       "    </tr>\n",
       "  </thead>\n",
       "  <tbody>\n",
       "    <tr>\n",
       "      <th>0</th>\n",
       "      <td>107T1471</td>\n",
       "      <td>ZSCP</td>\n",
       "      <td>Factura de Venta</td>\n",
       "      <td>ZSCI</td>\n",
       "      <td>Ped POS Contado EI</td>\n",
       "      <td>2</td>\n",
       "      <td>SERVICIO CALIFICADO</td>\n",
       "      <td>0,5</td>\n",
       "      <td>C</td>\n",
       "      <td>800104</td>\n",
       "      <td>...</td>\n",
       "      <td>OF02</td>\n",
       "      <td>Centro</td>\n",
       "      <td>10000,0</td>\n",
       "      <td>1000</td>\n",
       "      <td>1000</td>\n",
       "      <td>60</td>\n",
       "      <td>SAC</td>\n",
       "      <td>NaN</td>\n",
       "      <td>NaN</td>\n",
       "      <td>NaN</td>\n",
       "    </tr>\n",
       "    <tr>\n",
       "      <th>1</th>\n",
       "      <td>107T1472</td>\n",
       "      <td>ZSCP</td>\n",
       "      <td>Factura de Venta</td>\n",
       "      <td>ZSCI</td>\n",
       "      <td>Ped POS Contado EI</td>\n",
       "      <td>496</td>\n",
       "      <td>INSTALACION GRATUITA</td>\n",
       "      <td>1,0</td>\n",
       "      <td>C</td>\n",
       "      <td>800104</td>\n",
       "      <td>...</td>\n",
       "      <td>OF02</td>\n",
       "      <td>Centro</td>\n",
       "      <td>10000,0</td>\n",
       "      <td>1000</td>\n",
       "      <td>1000</td>\n",
       "      <td>60</td>\n",
       "      <td>SAC</td>\n",
       "      <td>NaN</td>\n",
       "      <td></td>\n",
       "      <td>2,0</td>\n",
       "    </tr>\n",
       "    <tr>\n",
       "      <th>2</th>\n",
       "      <td>107T1472</td>\n",
       "      <td>ZSCP</td>\n",
       "      <td>Factura de Venta</td>\n",
       "      <td>ZSCI</td>\n",
       "      <td>Ped POS Contado EI</td>\n",
       "      <td>1001849</td>\n",
       "      <td>CODO CALLE 1/2' GALVANIZADO</td>\n",
       "      <td>1,0</td>\n",
       "      <td>C</td>\n",
       "      <td>800104</td>\n",
       "      <td>...</td>\n",
       "      <td>OF02</td>\n",
       "      <td>Centro</td>\n",
       "      <td>5129,0</td>\n",
       "      <td>1000</td>\n",
       "      <td>1000</td>\n",
       "      <td>50</td>\n",
       "      <td>Repuestos y Accesori</td>\n",
       "      <td>NaN</td>\n",
       "      <td></td>\n",
       "      <td>2,0</td>\n",
       "    </tr>\n",
       "    <tr>\n",
       "      <th>3</th>\n",
       "      <td>107T1472</td>\n",
       "      <td>ZSCP</td>\n",
       "      <td>Factura de Venta</td>\n",
       "      <td>ZSCI</td>\n",
       "      <td>Ped POS Contado EI</td>\n",
       "      <td>1005211</td>\n",
       "      <td>MANGUERA ESPIRAL ENCAUCHADA 36</td>\n",
       "      <td>1,0</td>\n",
       "      <td>C</td>\n",
       "      <td>800104</td>\n",
       "      <td>...</td>\n",
       "      <td>OF02</td>\n",
       "      <td>Centro</td>\n",
       "      <td>5792,0</td>\n",
       "      <td>1000</td>\n",
       "      <td>1000</td>\n",
       "      <td>50</td>\n",
       "      <td>Repuestos y Accesori</td>\n",
       "      <td>NaN</td>\n",
       "      <td></td>\n",
       "      <td>2,0</td>\n",
       "    </tr>\n",
       "    <tr>\n",
       "      <th>4</th>\n",
       "      <td>101T370</td>\n",
       "      <td>ZSCP</td>\n",
       "      <td>Factura de Venta</td>\n",
       "      <td>ZSCI</td>\n",
       "      <td>Ped POS Contado EI</td>\n",
       "      <td>1006119</td>\n",
       "      <td>BIMETALICO FSTB NEV 611 SE RD21</td>\n",
       "      <td>1,0</td>\n",
       "      <td>C</td>\n",
       "      <td>800104</td>\n",
       "      <td>...</td>\n",
       "      <td>OF02</td>\n",
       "      <td>Centro</td>\n",
       "      <td>6534,0</td>\n",
       "      <td>1000</td>\n",
       "      <td>1000</td>\n",
       "      <td>50</td>\n",
       "      <td>Repuestos y Accesori</td>\n",
       "      <td>NaN</td>\n",
       "      <td>NaN</td>\n",
       "      <td>NaN</td>\n",
       "    </tr>\n",
       "  </tbody>\n",
       "</table>\n",
       "<p>5 rows × 58 columns</p>\n",
       "</div>"
      ],
      "text/plain": [
       "  NdeFactur ClasedeFactura DescripcionFactura Clase de Pedido  \\\n",
       "0  107T1471           ZSCP   Factura de Venta            ZSCI   \n",
       "1  107T1472           ZSCP   Factura de Venta            ZSCI   \n",
       "2  107T1472           ZSCP   Factura de Venta            ZSCI   \n",
       "3  107T1472           ZSCP   Factura de Venta            ZSCI   \n",
       "4   101T370           ZSCP   Factura de Venta            ZSCI   \n",
       "\n",
       "  Descripcion ClasePedido  CodigoMaterial                   NombreMaterial  \\\n",
       "0      Ped POS Contado EI               2              SERVICIO CALIFICADO   \n",
       "1      Ped POS Contado EI             496             INSTALACION GRATUITA   \n",
       "2      Ped POS Contado EI         1001849      CODO CALLE 1/2' GALVANIZADO   \n",
       "3      Ped POS Contado EI         1005211   MANGUERA ESPIRAL ENCAUCHADA 36   \n",
       "4      Ped POS Contado EI         1006119  BIMETALICO FSTB NEV 611 SE RD21   \n",
       "\n",
       "  Cantidad EstadodeContabilizacion  CodigoPagador  ... Oficina de Ventas  \\\n",
       "0      0,5                       C         800104  ...              OF02   \n",
       "1      1,0                       C         800104  ...              OF02   \n",
       "2      1,0                       C         800104  ...              OF02   \n",
       "3      1,0                       C         800104  ...              OF02   \n",
       "4      1,0                       C         800104  ...              OF02   \n",
       "\n",
       "  Descripción Oficina de Ventas   Margen Sociedad Org Ventas  \\\n",
       "0                        Centro  10000,0     1000       1000   \n",
       "1                        Centro  10000,0     1000       1000   \n",
       "2                        Centro   5129,0     1000       1000   \n",
       "3                        Centro   5792,0     1000       1000   \n",
       "4                        Centro   6534,0     1000       1000   \n",
       "\n",
       "  Grupo de Comisiones Descripción Grupo de Comisiones  \\\n",
       "0                  60                             SAC   \n",
       "1                  60                             SAC   \n",
       "2                  50            Repuestos y Accesori   \n",
       "3                  50            Repuestos y Accesori   \n",
       "4                  50            Repuestos y Accesori   \n",
       "\n",
       "  Descripción Nivel Privilegio Email_ZPOS Habeas_Data  \n",
       "0                          NaN        NaN         NaN  \n",
       "1                          NaN                    2,0  \n",
       "2                          NaN                    2,0  \n",
       "3                          NaN                    2,0  \n",
       "4                          NaN        NaN         NaN  \n",
       "\n",
       "[5 rows x 58 columns]"
      ]
     },
     "execution_count": 11,
     "metadata": {},
     "output_type": "execute_result"
    }
   ],
   "source": [
    "test.head()"
   ]
  },
  {
   "cell_type": "code",
   "execution_count": 12,
   "metadata": {},
   "outputs": [
    {
     "name": "stderr",
     "output_type": "stream",
     "text": [
      "/home/german/repos/azure-datalake-utils/docs/../azure_datalake_utils/azure_datalake_utils.py:80: DtypeWarning: Columns (10,16,31) have mixed types. Specify dtype option on import or set low_memory=False.\n",
      "  df = pd.read_csv(f\"az://{ruta}\", storage_options=self.storage_options, **kwargs)\n"
     ]
    }
   ],
   "source": [
    "test = dl.read_csv('hacebanalitica/raw/sap/ztsd_clientepos/load_date=2022-05-04/ztsd_clientepos.csv', sep='|')"
   ]
  },
  {
   "cell_type": "code",
   "execution_count": 14,
   "metadata": {},
   "outputs": [
    {
     "data": {
      "text/html": [
       "<div>\n",
       "<style scoped>\n",
       "    .dataframe tbody tr th:only-of-type {\n",
       "        vertical-align: middle;\n",
       "    }\n",
       "\n",
       "    .dataframe tbody tr th {\n",
       "        vertical-align: top;\n",
       "    }\n",
       "\n",
       "    .dataframe thead th {\n",
       "        text-align: right;\n",
       "    }\n",
       "</style>\n",
       "<table border=\"1\" class=\"dataframe\">\n",
       "  <thead>\n",
       "    <tr style=\"text-align: right;\">\n",
       "      <th></th>\n",
       "      <th>MANDT</th>\n",
       "      <th>FITYP</th>\n",
       "      <th>STCDT</th>\n",
       "      <th>STCD1</th>\n",
       "      <th>KUNNR</th>\n",
       "      <th>ANRED</th>\n",
       "      <th>NAME1</th>\n",
       "      <th>STREET</th>\n",
       "      <th>CITY1</th>\n",
       "      <th>COUNTRY</th>\n",
       "      <th>...</th>\n",
       "      <th>ERNAM</th>\n",
       "      <th>AEDAT</th>\n",
       "      <th>AEZET</th>\n",
       "      <th>UNAM</th>\n",
       "      <th>IN_CLISAP</th>\n",
       "      <th>CSTCNDGRP1</th>\n",
       "      <th>ZSD_HABEASDATA</th>\n",
       "      <th>TRANSPZONE</th>\n",
       "      <th>LANDX</th>\n",
       "      <th>KTOKD</th>\n",
       "    </tr>\n",
       "  </thead>\n",
       "  <tbody>\n",
       "    <tr>\n",
       "      <th>0</th>\n",
       "      <td>300</td>\n",
       "      <td>PN</td>\n",
       "      <td>13</td>\n",
       "      <td>632453</td>\n",
       "      <td>632453</td>\n",
       "      <td>Señor(a)</td>\n",
       "      <td>GUSTAVO PARRA</td>\n",
       "      <td>CR 45 A 80 SUR 75</td>\n",
       "      <td>MEDELLIN</td>\n",
       "      <td>CO</td>\n",
       "      <td>...</td>\n",
       "      <td>LUISZAP</td>\n",
       "      <td>2018.03.28</td>\n",
       "      <td>07:31:51</td>\n",
       "      <td>LUISZAP</td>\n",
       "      <td>2</td>\n",
       "      <td></td>\n",
       "      <td>1</td>\n",
       "      <td>5001</td>\n",
       "      <td></td>\n",
       "      <td></td>\n",
       "    </tr>\n",
       "    <tr>\n",
       "      <th>1</th>\n",
       "      <td>300</td>\n",
       "      <td>PN</td>\n",
       "      <td>13</td>\n",
       "      <td>63311387</td>\n",
       "      <td>63311387</td>\n",
       "      <td>Señor(a)</td>\n",
       "      <td>ALMANZAR SANCHEZ</td>\n",
       "      <td>CORDOBA</td>\n",
       "      <td>MEDELLIN</td>\n",
       "      <td>CO</td>\n",
       "      <td>...</td>\n",
       "      <td>LUISZAP</td>\n",
       "      <td>2018.03.28</td>\n",
       "      <td>07:31:51</td>\n",
       "      <td>LUISZAP</td>\n",
       "      <td>2</td>\n",
       "      <td></td>\n",
       "      <td>1</td>\n",
       "      <td>5001</td>\n",
       "      <td></td>\n",
       "      <td></td>\n",
       "    </tr>\n",
       "    <tr>\n",
       "      <th>2</th>\n",
       "      <td>300</td>\n",
       "      <td>PN</td>\n",
       "      <td>13</td>\n",
       "      <td>6819796</td>\n",
       "      <td>6819796</td>\n",
       "      <td>Señor(a)</td>\n",
       "      <td>FERNANDO BOTERO</td>\n",
       "      <td>CR 81 B 7 A 49</td>\n",
       "      <td>MEDELLIN</td>\n",
       "      <td>CO</td>\n",
       "      <td>...</td>\n",
       "      <td>LUISZAP</td>\n",
       "      <td>2018.03.28</td>\n",
       "      <td>07:31:51</td>\n",
       "      <td>LUISZAP</td>\n",
       "      <td>2</td>\n",
       "      <td></td>\n",
       "      <td>1</td>\n",
       "      <td>5001</td>\n",
       "      <td></td>\n",
       "      <td></td>\n",
       "    </tr>\n",
       "    <tr>\n",
       "      <th>3</th>\n",
       "      <td>300</td>\n",
       "      <td>PN</td>\n",
       "      <td>13</td>\n",
       "      <td>70030346</td>\n",
       "      <td>70030346</td>\n",
       "      <td>Señor(a)</td>\n",
       "      <td>ALBERTO LONDONO</td>\n",
       "      <td>CLIENTE TRNASPORTA</td>\n",
       "      <td>MEDELLIN</td>\n",
       "      <td>CO</td>\n",
       "      <td>...</td>\n",
       "      <td>LUISZAP</td>\n",
       "      <td>2018.03.28</td>\n",
       "      <td>07:31:51</td>\n",
       "      <td>LUISZAP</td>\n",
       "      <td>2</td>\n",
       "      <td></td>\n",
       "      <td>1</td>\n",
       "      <td>5001</td>\n",
       "      <td></td>\n",
       "      <td></td>\n",
       "    </tr>\n",
       "    <tr>\n",
       "      <th>4</th>\n",
       "      <td>300</td>\n",
       "      <td>PN</td>\n",
       "      <td>13</td>\n",
       "      <td>70040014</td>\n",
       "      <td>70040014</td>\n",
       "      <td>Señor(a)</td>\n",
       "      <td>PEDRO HERNANDEZ</td>\n",
       "      <td>COTIZACION</td>\n",
       "      <td>MEDELLIN</td>\n",
       "      <td>CO</td>\n",
       "      <td>...</td>\n",
       "      <td>LUISZAP</td>\n",
       "      <td>2018.03.28</td>\n",
       "      <td>07:31:51</td>\n",
       "      <td>LUISZAP</td>\n",
       "      <td>2</td>\n",
       "      <td></td>\n",
       "      <td>1</td>\n",
       "      <td>5001</td>\n",
       "      <td></td>\n",
       "      <td></td>\n",
       "    </tr>\n",
       "  </tbody>\n",
       "</table>\n",
       "<p>5 rows × 34 columns</p>\n",
       "</div>"
      ],
      "text/plain": [
       "   MANDT FITYP  STCDT     STCD1     KUNNR     ANRED             NAME1  \\\n",
       "0    300    PN     13    632453    632453  Señor(a)     GUSTAVO PARRA   \n",
       "1    300    PN     13  63311387  63311387  Señor(a)  ALMANZAR SANCHEZ   \n",
       "2    300    PN     13   6819796   6819796  Señor(a)   FERNANDO BOTERO   \n",
       "3    300    PN     13  70030346  70030346  Señor(a)   ALBERTO LONDONO   \n",
       "4    300    PN     13  70040014  70040014  Señor(a)   PEDRO HERNANDEZ   \n",
       "\n",
       "               STREET     CITY1 COUNTRY  ...    ERNAM       AEDAT     AEZET  \\\n",
       "0   CR 45 A 80 SUR 75  MEDELLIN      CO  ...  LUISZAP  2018.03.28  07:31:51   \n",
       "1             CORDOBA  MEDELLIN      CO  ...  LUISZAP  2018.03.28  07:31:51   \n",
       "2      CR 81 B 7 A 49  MEDELLIN      CO  ...  LUISZAP  2018.03.28  07:31:51   \n",
       "3  CLIENTE TRNASPORTA  MEDELLIN      CO  ...  LUISZAP  2018.03.28  07:31:51   \n",
       "4          COTIZACION  MEDELLIN      CO  ...  LUISZAP  2018.03.28  07:31:51   \n",
       "\n",
       "      UNAM IN_CLISAP CSTCNDGRP1 ZSD_HABEASDATA TRANSPZONE LANDX KTOKD  \n",
       "0  LUISZAP         2                         1       5001              \n",
       "1  LUISZAP         2                         1       5001              \n",
       "2  LUISZAP         2                         1       5001              \n",
       "3  LUISZAP         2                         1       5001              \n",
       "4  LUISZAP         2                         1       5001              \n",
       "\n",
       "[5 rows x 34 columns]"
      ]
     },
     "execution_count": 14,
     "metadata": {},
     "output_type": "execute_result"
    }
   ],
   "source": [
    "test.head()"
   ]
  },
  {
   "cell_type": "code",
   "execution_count": 13,
   "metadata": {},
   "outputs": [],
   "source": [
    "## Interactivo"
   ]
  },
  {
   "cell_type": "code",
   "execution_count": 15,
   "metadata": {},
   "outputs": [],
   "source": [
    "dl = Datalake('datalakeanaliticabi', '5368fc5a-2692-4a6a-b226-e2802e94e22b')"
   ]
  },
  {
   "cell_type": "code",
   "execution_count": 16,
   "metadata": {},
   "outputs": [],
   "source": [
    "test = dl.read_csv('hacebanalitica-user-cientificos/prueba/*.csv', header = None)"
   ]
  },
  {
   "cell_type": "code",
   "execution_count": null,
   "metadata": {},
   "outputs": [],
   "source": [
    "test = dl.read_csv('hacebanalitica/raw/sap/ztsd_clientepos/load_date=2022-05-04/ztsd_clientepos.csv', sep='|')"
   ]
  },
  {
   "cell_type": "markdown",
   "metadata": {},
   "source": [
    "## Probar el uso del FS"
   ]
  },
  {
   "cell_type": "code",
   "execution_count": 4,
   "metadata": {},
   "outputs": [],
   "source": [
    "from adlfs import AzureBlobFileSystem"
   ]
  },
  {
   "cell_type": "code",
   "execution_count": 5,
   "metadata": {},
   "outputs": [],
   "source": [
    "fs = AzureBlobFileSystem(account_name=creds['datalake_name'], account_key=creds['account_key'])"
   ]
  },
  {
   "cell_type": "code",
   "execution_count": 8,
   "metadata": {},
   "outputs": [
    {
     "data": {
      "text/plain": [
       "['hacebanalitica/raw/tuya_cloud/devices/product_name=/start_date=2022_10_30/load_date=2022_10_31/devices.csv',\n",
       " 'hacebanalitica/raw/tuya_cloud/devices/product_name=/start_date=2022_10_31/load_date=2022_11_01/devices.csv',\n",
       " 'hacebanalitica/raw/tuya_cloud/devices/product_name=/start_date=2022_11_01/load_date=2022_11_02/devices.csv',\n",
       " 'hacebanalitica/raw/tuya_cloud/devices/product_name=/start_date=2022_11_02/load_date=2022_11_03/devices.csv',\n",
       " 'hacebanalitica/raw/tuya_cloud/devices/product_name=/start_date=2022_11_03/load_date=2022_11_04/devices.csv',\n",
       " 'hacebanalitica/raw/tuya_cloud/devices/product_name=/start_date=2022_11_04/load_date=2022_11_05/devices.csv',\n",
       " 'hacebanalitica/raw/tuya_cloud/devices/product_name=/start_date=2022_11_05/load_date=2022_11_06/devices.csv',\n",
       " 'hacebanalitica/raw/tuya_cloud/devices/product_name=/start_date=2022_11_06/load_date=2022_11_07/devices.csv',\n",
       " 'hacebanalitica/raw/tuya_cloud/devices/product_name=/start_date=2022_11_07/load_date=2022_11_08/devices.csv',\n",
       " 'hacebanalitica/raw/tuya_cloud/devices/product_name=/start_date=2022_11_08/load_date=2022_11_09/devices.csv']"
      ]
     },
     "execution_count": 8,
     "metadata": {},
     "output_type": "execute_result"
    }
   ],
   "source": [
    "fs.find(\"hacebanalitica/raw/tuya_cloud/devices/\")[0:10]"
   ]
  },
  {
   "cell_type": "code",
   "execution_count": 8,
   "metadata": {},
   "outputs": [
    {
     "name": "stdout",
     "output_type": "stream",
     "text": [
      "('hacebanalitica/raw/tuya_cloud/devices/product_name=A19 RGB+CCT WIFI+Bluetooth/start_date=2022_09_24/', {'load_date=2022_10_24': {'name': 'hacebanalitica/raw/tuya_cloud/devices/product_name=A19 RGB+CCT WIFI+Bluetooth/start_date=2022_09_24/load_date=2022_10_24', 'size': None, 'type': 'directory'}}, {})\n",
      "('hacebanalitica/raw/tuya_cloud/devices/product_name=A19 RGB+CCT WIFI+Bluetooth/start_date=2022_09_24/load_date=2022_10_24', {}, {'devices.csv': {'metadata': {'is_directory': 'false'}, 'creation_time': datetime.datetime(2022, 10, 25, 1, 31, 47, tzinfo=datetime.timezone.utc), 'deleted': None, 'deleted_time': None, 'last_modified': datetime.datetime(2022, 10, 25, 1, 31, 47, tzinfo=datetime.timezone.utc), 'content_settings': {'content_type': 'application/octet-stream', 'content_encoding': None, 'content_language': None, 'content_md5': None, 'content_disposition': None, 'cache_control': None}, 'remaining_retention_days': None, 'archive_status': None, 'last_accessed_on': datetime.datetime(2022, 10, 25, 6, 20, 18, tzinfo=datetime.timezone.utc), 'etag': '0x8DAB628AEC191BC', 'tags': None, 'tag_count': None, 'name': 'hacebanalitica/raw/tuya_cloud/devices/product_name=A19 RGB+CCT WIFI+Bluetooth/start_date=2022_09_24/load_date=2022_10_24/devices.csv', 'size': 506, 'type': 'file'}})\n"
     ]
    }
   ],
   "source": [
    "for f in fs.walk(\"hacebanalitica/raw/tuya_cloud/devices/product_name=A19 RGB+CCT WIFI+Bluetooth/start_date=2022_09_24/\", detail= True):\n",
    "    print(f)"
   ]
  },
  {
   "cell_type": "code",
   "execution_count": 14,
   "metadata": {},
   "outputs": [],
   "source": [
    "dirs = fs.listdir(\"hacebanalitica/processed/ventas/sabana_pos/start_date=2022-01-01/end_date=2022-04-30/\")\n",
    "dirs = [d for d in dirs if d.get('type') == 'directory']"
   ]
  },
  {
   "cell_type": "code",
   "execution_count": 28,
   "metadata": {},
   "outputs": [],
   "source": []
  },
  {
   "cell_type": "code",
   "execution_count": 33,
   "metadata": {},
   "outputs": [
    {
     "data": {
      "text/plain": [
       "'hacebanalitica/processed/ventas/sabana_pos/start_date=2022-01-01/end_date=2022-04-30/load_date=2022-11-16/sabana_pos.csv'"
      ]
     },
     "execution_count": 33,
     "metadata": {},
     "output_type": "execute_result"
    }
   ],
   "source": [
    "sorted(files.items(), key=lambda x:x[1], reverse=True)[0][0]"
   ]
  },
  {
   "cell_type": "code",
   "execution_count": 29,
   "metadata": {},
   "outputs": [
    {
     "data": {
      "text/plain": [
       "{'hacebanalitica/processed/ventas/sabana_pos/start_date=2022-01-01/end_date=2022-04-30/load_date=2022-11-14/sabana_pos.csv': datetime.datetime(2022, 11, 15, 5, 15, 55, tzinfo=datetime.timezone.utc),\n",
       " 'hacebanalitica/processed/ventas/sabana_pos/start_date=2022-01-01/end_date=2022-04-30/load_date=2022-11-15/sabana_pos.csv': datetime.datetime(2022, 11, 16, 5, 57, 50, tzinfo=datetime.timezone.utc),\n",
       " 'hacebanalitica/processed/ventas/sabana_pos/start_date=2022-01-01/end_date=2022-04-30/load_date=2022-11-16/sabana_pos.csv': datetime.datetime(2022, 11, 16, 19, 1, 29, tzinfo=datetime.timezone.utc)}"
      ]
     },
     "execution_count": 29,
     "metadata": {},
     "output_type": "execute_result"
    }
   ],
   "source": [
    "sorted(files, key=lambda a: a.last_modified, reverse=False)"
   ]
  },
  {
   "cell_type": "code",
   "execution_count": 45,
   "metadata": {},
   "outputs": [],
   "source": [
    "cli = fs.service_client"
   ]
  },
  {
   "cell_type": "code",
   "execution_count": 51,
   "metadata": {},
   "outputs": [],
   "source": [
    "from azure.storage.blob import  BlobServiceClient"
   ]
  },
  {
   "cell_type": "code",
   "execution_count": 62,
   "metadata": {},
   "outputs": [
    {
     "data": {
      "text/plain": [
       "'raw/tuya_cloud/devices/product_name=A19 RGB+CCT WIFI+Bluetooth/start_date=2022_11_28/load_date=2022_11_29/devices.csv'"
      ]
     },
     "execution_count": 62,
     "metadata": {},
     "output_type": "execute_result"
    }
   ],
   "source": [
    "get_last_modified(\"hacebanalitica\", \"raw/tuya_cloud/devices/product_name=A19 RGB+CCT WIFI+Bluetooth/\")"
   ]
  },
  {
   "cell_type": "code",
   "execution_count": 19,
   "metadata": {},
   "outputs": [
    {
     "data": {
      "text/plain": [
       "['hacebanalitica/raw/tuya_cloud/devices/product_name=A19 RGB+CCT WIFI+Bluetooth/start_date=2022_09_24/load_date=2022_10_24']"
      ]
     },
     "execution_count": 19,
     "metadata": {},
     "output_type": "execute_result"
    }
   ],
   "source": [
    "fs.ls(\"hacebanalitica/raw/tuya_cloud/devices/product_name=A19 RGB+CCT WIFI+Bluetooth/start_date=2022_09_24/\")"
   ]
  },
  {
   "cell_type": "code",
   "execution_count": null,
   "metadata": {},
   "outputs": [],
   "source": []
  }
 ],
 "metadata": {
  "kernelspec": {
   "display_name": "Python 3.8.10 ('adl_utils')",
   "language": "python",
   "name": "python3"
  },
  "language_info": {
   "codemirror_mode": {
    "name": "ipython",
    "version": 3
   },
   "file_extension": ".py",
   "mimetype": "text/x-python",
   "name": "python",
   "nbconvert_exporter": "python",
   "pygments_lexer": "ipython3",
   "version": "3.8.10"
  },
  "orig_nbformat": 4,
  "vscode": {
   "interpreter": {
    "hash": "743db36a5e4e3179dc25f5e4accad7188f145bc728d3a3aad7b939caec0a0c20"
   }
  }
 },
 "nbformat": 4,
 "nbformat_minor": 2
}
